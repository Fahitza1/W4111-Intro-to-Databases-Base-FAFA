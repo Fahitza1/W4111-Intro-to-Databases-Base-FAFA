{
 "cells": [
  {
   "cell_type": "markdown",
   "id": "b28e2c40",
   "metadata": {
    "collapsed": true
   },
   "source": [
    "# DLT Overview and Examples"
   ]
  },
  {
   "cell_type": "markdown",
   "id": "f7d5e494",
   "metadata": {},
   "source": [
    "## Introduction"
   ]
  },
  {
   "cell_type": "markdown",
   "id": "8209e48c",
   "metadata": {},
   "source": [
    "\"In computer programming, dataflow programming is a programming paradigm that models a program as a directed graph of the data flowing between operations, ... ...\" (https://en.wikipedia.org/wiki/Dataflow_programming)\n",
    "\n"
   ]
  },
  {
   "cell_type": "markdown",
   "id": "0452973e",
   "metadata": {},
   "source": [
    "## DLT Overview"
   ]
  },
  {
   "cell_type": "markdown",
   "id": "1db7d60c",
   "metadata": {},
   "source": [
    "## Installation"
   ]
  },
  {
   "cell_type": "markdown",
   "id": "b0cc17bd",
   "metadata": {},
   "source": [
    "https://amsayed.medium.com/build-scalable-data-pipelines-in-python-using-dlt-5e8275fd3371#971b"
   ]
  }
 ],
 "metadata": {
  "kernelspec": {
   "display_name": "Python 3 (ipykernel)",
   "language": "python",
   "name": "python3"
  },
  "language_info": {
   "codemirror_mode": {
    "name": "ipython",
    "version": 3
   },
   "file_extension": ".py",
   "mimetype": "text/x-python",
   "name": "python",
   "nbconvert_exporter": "python",
   "pygments_lexer": "ipython3",
   "version": "3.11.4"
  }
 },
 "nbformat": 4,
 "nbformat_minor": 5
}
